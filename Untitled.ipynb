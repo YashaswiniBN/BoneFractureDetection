{
 "cells": [
  {
   "cell_type": "code",
   "execution_count": 15,
   "id": "f11bbe9e",
   "metadata": {},
   "outputs": [
    {
     "ename": "IndentationError",
     "evalue": "expected an indented block after function definition on line 8 (1827563847.py, line 13)",
     "output_type": "error",
     "traceback": [
      "\u001b[1;36m  Cell \u001b[1;32mIn[15], line 13\u001b[1;36m\u001b[0m\n\u001b[1;33m    def calculate_iou(box1, box2):\u001b[0m\n\u001b[1;37m    ^\u001b[0m\n\u001b[1;31mIndentationError\u001b[0m\u001b[1;31m:\u001b[0m expected an indented block after function definition on line 8\n"
     ]
    }
   ],
   "source": [
    "# Import necessary libraries\n",
    "import os\n",
    "import cv2\n",
    "import numpy as np\n",
    "import streamlit as st\n",
    "\n",
    "# Define function to load ground truth data\n",
    "def load_ground_truth(image_id):\n",
    "    # Load ground truth bounding boxes and labels for the given image_id from your dataset\n",
    "    # Return a list of ground truth bounding boxes and labels\n",
    "\n",
    "# Define function to calculate Intersection over Union (IoU)\n",
    "def calculate_iou(box1, box2):\n",
    "    # Implement IoU calculation between two bounding boxes\n",
    "    # Return IoU score\n",
    "\n",
    "# Define model evaluation function\n",
    "def evaluate_model(dataset_path, model_path, device=\"cpu\", threshold=0.5):\n",
    "    # Load your dataset\n",
    "    image_paths = [...]  # List of image paths in your dataset\n",
    "\n",
    "    # Define variables to keep track of metrics\n",
    "    total_samples = len(image_paths)\n",
    "    true_positives = 0\n",
    "    false_positives = 0\n",
    "    false_negatives = 0\n",
    "\n",
    "    # Iterate through the dataset\n",
    "    for image_path in image_paths:\n",
    "        # Load image\n",
    "        image = cv2.imread(image_path)\n",
    "        \n",
    "        # Load ground truth data\n",
    "        ground_truth_bboxes, ground_truth_labels = load_ground_truth(image_id)\n",
    "        \n",
    "        # Preprocess image\n",
    "        image_preprocessed = preprocess(image)\n",
    "        \n",
    "        # Perform model inference\n",
    "        predictions = model_inference(model_path, image_preprocessed, device)\n",
    "        \n",
    "        # Post-process predictions\n",
    "        predicted_bboxes, predicted_labels = post_process(image, predictions, threshold)\n",
    "        \n",
    "        # Compare predictions with ground truth\n",
    "        for bbox_gt, label_gt in zip(ground_truth_bboxes, ground_truth_labels):\n",
    "            for bbox_pred, label_pred in zip(predicted_bboxes, predicted_labels):\n",
    "                iou_score = calculate_iou(bbox_gt, bbox_pred)\n",
    "                if iou_score > threshold:\n",
    "                    if label_gt == label_pred:\n",
    "                        true_positives += 1\n",
    "                    else:\n",
    "                        false_positives += 1\n",
    "        false_negatives += len(ground_truth_bboxes) - true_positives\n",
    "\n",
    "    # Calculate accuracy metrics\n",
    "    precision = true_positives / (true_positives + false_positives)\n",
    "    recall = true_positives / (true_positives + false_negatives)\n",
    "    f1_score = 2 * (precision * recall) / (precision + recall)\n",
    "\n",
    "    return precision, recall, f1_score\n",
    "\n",
    "# Streamlit UI\n",
    "st.title('Model Evaluation')\n",
    "\n",
    "# Add components for model evaluation\n",
    "dataset_path = st.text_input('Enter path to dataset:')\n",
    "model_path = st.text_input('Enter path to model:')\n",
    "threshold = st.slider('IoU Threshold', 0.0, 1.0, 0.5)\n",
    "\n",
    "if st.button('Evaluate Model'):\n",
    "    precision, recall, f1_score = evaluate_model(dataset_path, model_path, threshold=threshold)\n",
    "    st.write('Precision:', precision)\n",
    "    st.write('Recall:', recall)\n",
    "    st.write('F1 Score:', f1_score)\n"
   ]
  },
  {
   "cell_type": "code",
   "execution_count": null,
   "id": "31e68d78",
   "metadata": {},
   "outputs": [],
   "source": []
  },
  {
   "cell_type": "code",
   "execution_count": null,
   "id": "7b646814",
   "metadata": {},
   "outputs": [],
   "source": []
  }
 ],
 "metadata": {
  "kernelspec": {
   "display_name": "Python 3 (ipykernel)",
   "language": "python",
   "name": "python3"
  },
  "language_info": {
   "codemirror_mode": {
    "name": "ipython",
    "version": 3
   },
   "file_extension": ".py",
   "mimetype": "text/x-python",
   "name": "python",
   "nbconvert_exporter": "python",
   "pygments_lexer": "ipython3",
   "version": "3.11.5"
  }
 },
 "nbformat": 4,
 "nbformat_minor": 5
}
